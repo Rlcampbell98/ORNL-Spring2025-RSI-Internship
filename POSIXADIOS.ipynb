{
 "cells": [
  {
   "cell_type": "code",
   "execution_count": 1,
   "id": "4d681972-d74e-40ee-8fe3-563885f8fe5a",
   "metadata": {},
   "outputs": [
    {
     "name": "stdout",
     "output_type": "stream",
     "text": [
      "2.10.1\n"
     ]
    }
   ],
   "source": [
    "import adios2\n",
    "print(adios2.__version__)\n",
    "import pandas as pd\n",
    "import os\n",
    "import time\n",
    "import adios2\n",
    "from adios2 import FileReader\n",
    "import adios2.bindings as adios2\n",
    "import json\n",
    "import numpy as np"
   ]
  },
  {
   "cell_type": "code",
   "execution_count": 33,
   "id": "051fd3e0-1776-4e3f-bbb3-1f0af4c64d93",
   "metadata": {},
   "outputs": [],
   "source": [
    "\n",
    "# Function to read a CSV file using POSIX\n",
    "def read_csv_posix(file_path):\n",
    "    start_time = time.time()\n",
    "    df = pd.read_csv(file_path)\n",
    "    end_time = time.time()\n",
    "    print(f\"Time taken to read CSV (POSIX): {end_time - start_time:.6f} seconds\")\n",
    "    return df\n",
    "\n",
    "# Function to write a CSV file using POSIX\n",
    "def write_csv_posix(df, output_path):\n",
    "    start_time = time.time()\n",
    "    df.to_csv(output_path, index=False)\n",
    "    end_time = time.time()\n",
    "    print(f\"Time taken to write CSV (POSIX): {end_time - start_time:.6f} seconds\")\n",
    "\n",
    "def write_adios2(df, bp_file):\n",
    "    start_time = time.time()\n",
    "    \n",
    "    adios = adios2.ADIOS()  #  Initialize ADIOS2\n",
    "    io = adios.DeclareIO(\"WriteIO\")\n",
    "\n",
    "    adiosVars={}\n",
    "    for col in df.columns:\n",
    "        if df[col].dtypes != np.float64:\n",
    "            continue\n",
    "        values = np.array(df[col].values)\n",
    "        adiosVars[col] = io.DefineVariable(col, values, [len(df)],[0],[len(df)])\n",
    "    \n",
    "    stream = io.Open(bp_file, adios2.Mode.Write)\n",
    "    stream.BeginStep()\n",
    "\n",
    "    for col in df.columns:\n",
    "        if df[col].dtypes != np.float64:\n",
    "            continue\n",
    "        values = np.array(df[col].values)\n",
    "        stream.Put(adiosVars[col], values)\n",
    "\n",
    "    stream.EndStep()\n",
    "\n",
    "    stream.Close()\n",
    "    \n",
    "    end_time = time.time()\n",
    "    print(f\"Time taken to write using ADIOS2: {end_time - start_time:.6f} seconds\")\n",
    "\n",
    "\n",
    "def read_adios2(bp_file):\n",
    "    start_time = time.time()\n",
    "    \n",
    "    adios = adios2.ADIOS()\n",
    "    io = adios.DeclareIO(\"ReadIO\")\n",
    "        \n",
    "        \n",
    "    # Open engine\n",
    "    rstream = io.Open(bp_file, adios2.Mode.Read)\n",
    "    \n",
    "    data = {}\n",
    "    while rstream.BeginStep() == adios2.StepStatus.OK:\n",
    "        for name, info in io.AvailableVariables().items():\n",
    "            var = io.InquireVariable(name)\n",
    "            shape = var.Shape()\n",
    "            buffer = np.empty(shape, dtype=np.float64)\n",
    "            rstream.Get(var, buffer, adios2.Mode.Sync)\n",
    "            data[name] = buffer\n",
    "        rstream.EndStep()\n",
    "    \n",
    "    rstream.Close()\n",
    "\n",
    "    df = pd.DataFrame(data)  \n",
    "    end_time = time.time()\n",
    "    print(f\"Time taken to read using ADIOS2: {end_time - start_time:.6f} seconds\")\n",
    "    return df\n",
    "    \n",
    "\n",
    "    \n",
    "def compare_adios2_profile(bp_file):\n",
    "    profile_path = os.path.join(bp_file, \"profiling.json\")\n",
    "\n",
    "    if not os.path.exists(profile_path):\n",
    "        print(\"Profiling JSON file not found in BP directory.\")\n",
    "        return\n",
    "\n",
    "    with open(profile_path, \"r\") as f:\n",
    "        profile_data = json.load(f)\n",
    "\n",
    "    if isinstance(profile_data, list):\n",
    "        if len(profile_data) > 0 and isinstance(profile_data[0], dict):\n",
    "            profile_data = profile_data[0]  # Assume first dict contains the relevant information\n",
    "\n",
    "    \n",
    "    # Extract write time from transport layers\n",
    "    transport_0_write_time = profile_data.get(\"transport_0\", {}).get(\"write\", {}).get(\"mus\", 0)\n",
    "    transport_1_write_time = profile_data.get(\"transport_1\", {}).get(\"write\", {}).get(\"mus\", 0)\n",
    "\n",
    "    # Convert microseconds (mus) to seconds\n",
    "    adios_recorded_time = (transport_0_write_time + transport_1_write_time) / 1_000_000\n",
    "\n",
    "    \n",
    "    \n",
    "    print(f\"ADIOS2 Profiling JSON recorded write time: {adios_recorded_time:.6f} seconds\")"
   ]
  },
  {
   "cell_type": "code",
   "execution_count": 34,
   "id": "a0d509cd-8a90-4cf0-b76e-c980f9f261d4",
   "metadata": {},
   "outputs": [
    {
     "name": "stdout",
     "output_type": "stream",
     "text": [
      "Time taken to read CSV (POSIX): 0.294078 seconds\n",
      "Time taken to write CSV (POSIX): 0.832468 seconds\n",
      "Time taken to write using ADIOS2: 0.015759 seconds\n",
      "Time taken to read using ADIOS2: 0.004760 seconds\n",
      "ADIOS2 Profiling JSON recorded write time: 0.001886 seconds\n"
     ]
    }
   ],
   "source": [
    "if __name__ == \"__main__\":\n",
    "    csv_file = \"C:/Users/rlw/codes/weatherHistory.csv\"\n",
    "    bp_file = \"C:/Users/rlw/codes/weatherHistory.bp\"\n",
    "\n",
    "    # Read dataset using POSIX (CSV)\n",
    "    df = read_csv_posix(csv_file)\n",
    "\n",
    "    # Write dataset using POSIX (CSV)\n",
    "    write_csv_posix(df, \"weatherHistory_output.csv\")\n",
    "\n",
    "    \n",
    "    # Write dataset using ADIOS2\n",
    "    write_adios2(df, bp_file)\n",
    "\n",
    "\n",
    "    # Read dataset using ADIOS2\n",
    "    df_adios = read_adios2(bp_file)\n",
    "\n",
    "    # Compare ADIOS2 profile timing with measured timing\n",
    "    compare_adios2_profile(bp_file)  "
   ]
  },
  {
   "cell_type": "code",
   "execution_count": 5,
   "id": "85c90b18-55ec-434b-b2c9-014004f59a80",
   "metadata": {},
   "outputs": [
    {
     "name": "stdout",
     "output_type": "stream",
     "text": [
      "['Adios', 'Attribute', 'Engine', 'FileReader', 'IO', 'LocalValueDim', 'Operator', 'Stream', 'Variable', '__builtins__', '__cached__', '__doc__', '__file__', '__license__', '__loader__', '__name__', '__package__', '__path__', '__spec__', '__version__', 'adios', 'adios2', 'attribute', 'bindings', 'engine', 'file_reader', 'io', 'is_built_with_mpi', 'maxsize', 'np', 'operator', 'singledispatchmethod', 'stream', 'string_to_mode', 'type_adios_to_numpy', 'variable']\n",
      "2.10.1\n"
     ]
    }
   ],
   "source": [
    "import adios2\n",
    "print(dir(adios2))  # List all available functions\n",
    "print(adios2.__version__)  # Check the installed ADIOS2 version"
   ]
  },
  {
   "cell_type": "code",
   "execution_count": 44,
   "id": "b4646bc2-2f3a-467f-b778-e5cb14823752",
   "metadata": {},
   "outputs": [
    {
     "name": "stdout",
     "output_type": "stream",
     "text": [
      "Time taken to read CSV (POSIX): 0.226214 seconds\n"
     ]
    },
    {
     "data": {
      "text/plain": [
       "96453"
      ]
     },
     "execution_count": 44,
     "metadata": {},
     "output_type": "execute_result"
    }
   ],
   "source": [
    "df = read_csv_posix(\"weatherHistory.csv\")\n",
    "len(df)"
   ]
  },
  {
   "cell_type": "code",
   "execution_count": 45,
   "id": "c715d997-277c-49fe-b0c7-6e4ced479768",
   "metadata": {},
   "outputs": [
    {
     "name": "stderr",
     "output_type": "stream",
     "text": [
      "C:\\Users\\rlw\\AppData\\Local\\Temp\\ipykernel_13300\\436943928.py:4: DtypeWarning: Columns (18) have mixed types. Specify dtype option on import or set low_memory=False.\n",
      "  df = pd.read_csv(file_path)\n"
     ]
    },
    {
     "name": "stdout",
     "output_type": "stream",
     "text": [
      "Time taken to read CSV (POSIX): 4.072822 seconds\n"
     ]
    },
    {
     "data": {
      "text/plain": [
       "1090151"
      ]
     },
     "execution_count": 45,
     "metadata": {},
     "output_type": "execute_result"
    }
   ],
   "source": [
    "df2 = read_csv_posix(\"water quality data.csv\")\n",
    "len(df2)"
   ]
  },
  {
   "cell_type": "code",
   "execution_count": 75,
   "id": "76f83785-4bc1-4d43-ad16-ceb0564f11f7",
   "metadata": {},
   "outputs": [
    {
     "ename": "RuntimeError",
     "evalue": "\u001b[1;36m[Thu Mar 06 13:54:31 2025]\u001b[1;34m [ADIOS2 EXCEPTION]\u001b[0m <Toolkit> <transport::file::FilePOSIX> <Write> : couldn't write to file test2.bp\\data.0 : errno = 22: Invalid argument\u001b[0m\n: iostream stream error",
     "output_type": "error",
     "traceback": [
      "\u001b[1;31m---------------------------------------------------------------------------\u001b[0m",
      "\u001b[1;31mRuntimeError\u001b[0m                              Traceback (most recent call last)",
      "Cell \u001b[1;32mIn[75], line 1\u001b[0m\n\u001b[1;32m----> 1\u001b[0m write_adios2(df2, \u001b[38;5;124m\"\u001b[39m\u001b[38;5;124mtest2.bp\u001b[39m\u001b[38;5;124m\"\u001b[39m)\n",
      "Cell \u001b[1;32mIn[72], line 40\u001b[0m, in \u001b[0;36mwrite_adios2\u001b[1;34m(df, bp_file)\u001b[0m\n\u001b[0;32m     37\u001b[0m     stream\u001b[38;5;241m.\u001b[39mPut(adiosVars[i], values)\n\u001b[0;32m     38\u001b[0m     i \u001b[38;5;241m=\u001b[39m i\u001b[38;5;241m+\u001b[39m\u001b[38;5;241m1\u001b[39m\n\u001b[1;32m---> 40\u001b[0m stream\u001b[38;5;241m.\u001b[39mEndStep()\n\u001b[0;32m     42\u001b[0m stream\u001b[38;5;241m.\u001b[39mClose()\n\u001b[0;32m     44\u001b[0m end_time \u001b[38;5;241m=\u001b[39m time\u001b[38;5;241m.\u001b[39mtime()\n",
      "\u001b[1;31mRuntimeError\u001b[0m: \u001b[1;36m[Thu Mar 06 13:54:31 2025]\u001b[1;34m [ADIOS2 EXCEPTION]\u001b[0m <Toolkit> <transport::file::FilePOSIX> <Write> : couldn't write to file test2.bp\\data.0 : errno = 22: Invalid argument\u001b[0m\n: iostream stream error"
     ]
    }
   ],
   "source": [
    "write_adios2(df2, \"test2.bp\")"
   ]
  },
  {
   "cell_type": "code",
   "execution_count": 67,
   "id": "71aa38d2-73ee-42fa-8213-7cf017c19ad9",
   "metadata": {},
   "outputs": [
    {
     "name": "stdout",
     "output_type": "stream",
     "text": [
      "Formatted Date 96453 object\n",
      "Summary 96453 object\n",
      "Precip Type 96453 object\n",
      "Temperature (C) 96453 float64\n",
      "FLOAT\n",
      "Apparent Temperature (C) 96453 float64\n",
      "FLOAT\n",
      "Humidity 96453 float64\n",
      "FLOAT\n",
      "Wind Speed (km/h) 96453 float64\n",
      "FLOAT\n",
      "Wind Bearing (degrees) 96453 float64\n",
      "FLOAT\n",
      "Visibility (km) 96453 float64\n",
      "FLOAT\n",
      "Loud Cover 96453 float64\n",
      "FLOAT\n",
      "Pressure (millibars) 96453 float64\n",
      "FLOAT\n",
      "Daily Summary 96453 object\n"
     ]
    }
   ],
   "source": [
    "for col in df.columns:\n",
    "    print(col, len(df), df[col].dtypes)\n",
    "    #print(df[col].values)\n",
    "    if df[col].dtypes == np.float64:\n",
    "        print(\"FLOAT\")"
   ]
  },
  {
   "cell_type": "code",
   "execution_count": 33,
   "id": "703e4bd1-7a38-4c43-a70e-7414f9d09fcc",
   "metadata": {},
   "outputs": [
    {
     "data": {
      "text/plain": [
       "96453"
      ]
     },
     "execution_count": 33,
     "metadata": {},
     "output_type": "execute_result"
    }
   ],
   "source": [
    "len(df)"
   ]
  },
  {
   "cell_type": "code",
   "execution_count": 57,
   "id": "1085b8b8-ee5a-438b-93ba-b706417e6760",
   "metadata": {},
   "outputs": [
    {
     "data": {
      "text/plain": [
       "dtype('O')"
      ]
     },
     "execution_count": 57,
     "metadata": {},
     "output_type": "execute_result"
    }
   ],
   "source": [
    "df[\"Formatted Date\"].dtypes"
   ]
  },
  {
   "cell_type": "code",
   "execution_count": null,
   "id": "2e8f6384-c596-4483-82a0-dae05c002cee",
   "metadata": {},
   "outputs": [],
   "source": []
  }
 ],
 "metadata": {
  "kernelspec": {
   "display_name": "Python 3 (ipykernel)",
   "language": "python",
   "name": "python3"
  },
  "language_info": {
   "codemirror_mode": {
    "name": "ipython",
    "version": 3
   },
   "file_extension": ".py",
   "mimetype": "text/x-python",
   "name": "python",
   "nbconvert_exporter": "python",
   "pygments_lexer": "ipython3",
   "version": "3.12.3"
  }
 },
 "nbformat": 4,
 "nbformat_minor": 5
}
